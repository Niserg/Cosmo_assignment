{
 "cells": [
  {
   "cell_type": "markdown",
   "id": "5959e737",
   "metadata": {},
   "source": [
    "# Question 3"
   ]
  },
  {
   "cell_type": "code",
   "execution_count": 5,
   "id": "3ec08bf2",
   "metadata": {},
   "outputs": [],
   "source": [
    "import numpy as np\n",
    "import matplotlib.pyplot as plt\n",
    "from scipy.integrate import quad"
   ]
  },
  {
   "cell_type": "code",
   "execution_count": 6,
   "id": "722a7722",
   "metadata": {},
   "outputs": [],
   "source": [
    "tH = 13.87   # hubble time\n",
    "t0 = 13.7    # age of the universe\n",
    "a0 = 1.0     # a(t0) at present time"
   ]
  },
  {
   "cell_type": "code",
   "execution_count": 7,
   "id": "22db1164",
   "metadata": {},
   "outputs": [],
   "source": [
    "def fried(a,omega_M = 0.3, omega_lam = 0.7, omega_R = 1e-5):\n",
    "    omega0 = omega_M+omega_lam+omega_R\n",
    "    \n",
    "    if omega0>1 :    # closed universe condition\n",
    "        amax = omega_M/(omega0-1)\n",
    "        a = amax - abs(amax-a)\n",
    "        \n",
    "    temp = omega_R*((a0/a)**4) + omega_M*((a0/a)**3) + omega_lam + (1-omega0)*(a0/a)**2\n",
    "    return 1/(a*abs(temp)**0.5)"
   ]
  },
  {
   "cell_type": "code",
   "execution_count": 8,
   "id": "fabc48ac",
   "metadata": {},
   "outputs": [
    {
     "name": "stdout",
     "output_type": "stream",
     "text": [
      "Age of the universe : 13.37 Gyr\n"
     ]
    }
   ],
   "source": [
    "omega_M = 0.3\n",
    "omega_lam=0.7\n",
    "\n",
    "af = 1.0    # a(t) at present time\n",
    "ai = 0.0     # a(t=0) at initial time \n",
    "# age the universe\n",
    "tage = 0\n",
    "tage, _ = quad(fried,ai,af,args=(omega_M,omega_lam,0))\n",
    "print(r'Age of the universe : %0.2f Gyr' %(tage*tH))"
   ]
  },
  {
   "cell_type": "code",
   "execution_count": null,
   "id": "1a70ddb0",
   "metadata": {},
   "outputs": [],
   "source": []
  },
  {
   "cell_type": "code",
   "execution_count": null,
   "id": "442e86ab",
   "metadata": {},
   "outputs": [],
   "source": []
  }
 ],
 "metadata": {
  "kernelspec": {
   "display_name": "Python 3 (ipykernel)",
   "language": "python",
   "name": "python3"
  },
  "language_info": {
   "codemirror_mode": {
    "name": "ipython",
    "version": 3
   },
   "file_extension": ".py",
   "mimetype": "text/x-python",
   "name": "python",
   "nbconvert_exporter": "python",
   "pygments_lexer": "ipython3",
   "version": "3.9.6"
  }
 },
 "nbformat": 4,
 "nbformat_minor": 5
}
