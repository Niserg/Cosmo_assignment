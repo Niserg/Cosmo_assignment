{
 "cells": [
  {
   "cell_type": "code",
   "execution_count": 52,
   "metadata": {},
   "outputs": [
    {
     "data": {
      "image/png": "[encoded data removed]",
      "text/plain": [
       "<Figure size 432x288 with 1 Axes>"
      ]
     },
     "metadata": {
      "needs_background": "light"
     },
     "output_type": "display_data"
    }
   ],
   "source": [
    "import numpy as np\n",
    "import math\n",
    "import matplotlib.pyplot as plt\n",
    "plt.ion()\n",
    "\n",
    "omega_m = np.array([0.0,1.0,3.0,0.23])\n",
    "omega_l = np.array([0.0,0.0,0.0,0.73])\n",
    "\n",
    "N = 10000\n",
    "H0 = 1.0\n",
    "\n",
    "t_back = np.linspace(-1,0,N+1)\n",
    "t_forw = np.linspace(0,1,N+1)\n",
    "dt = t_forw[3] - t_forw[2]\n",
    "a_forw = np.zeros(N+1)\n",
    "a_back = np.zeros(N+1)\n",
    "a_back[N] = 1.0\n",
    "a_forw[0] = 1.0\n",
    "\n",
    "\n",
    "def solve_f(m, l):\n",
    "    for i in range(0,N):\n",
    "        ff = (m/(a_forw[i]**3)) + (l) + ((1-m)/(a_forw[i]**2))\n",
    "        a = a_forw[i] + dt*a_forw[i]*H0*math.sqrt(abs(ff))\n",
    "        fa = (m/(a**3)) + (l) + ((1-m)/(a**2))\n",
    "        if(fa and ff >=0):\n",
    "            a = a_forw[i] + dt*a_forw[i]*H0*math.sqrt(abs(ff))\n",
    "            a_forw[i+1] = a_forw[i] + 0.5*dt*(a_forw[i]*H0*math.sqrt(abs(ff)) + a*H0*math.sqrt(abs(fa)))\n",
    "        else:\n",
    "            a = a_forw[i] - dt*a_forw[i]*H0*math.sqrt(abs(ff))\n",
    "            a_forw[i+1] = a_forw[i] - 0.5*dt*(a_forw[i]*H0*math.sqrt(abs(ff)) + a*H0*math.sqrt(abs(fa)))\n",
    "        \n",
    "def solve_b(m, l):\n",
    "    for i in range(N,-1,-1):\n",
    "        bb = (m/(a_back[i]**3)) + (l) + ((1-m)/(a_back[i]**2))\n",
    "        a = a_back[i] - dt*a_back[i]*H0*(math.sqrt(abs(bb)))\n",
    "        ba = (m/(a**3)) + (l) + ((1-m)/(a**2))\n",
    "        if(a_back[i] <= 0.00001):\n",
    "            return\n",
    "        a_back[i-1] = a_back[i] - 0.5*dt*(a_back[i]*H0*math.sqrt(abs(bb)) + a*H0*math.sqrt(abs(ba)))\n",
    "        \n",
    "        \n",
    "for i in range(0,4):\n",
    "    a_forw = np.zeros(N+1)\n",
    "    a_back = np.zeros(N+1)\n",
    "    a_back[N] = 1.0\n",
    "    a_forw[0] = 1.0\n",
    "    \n",
    "    solve_f(omega_m[i], omega_l[i])\n",
    "    solve_b(omega_m[i], omega_l[i])\n",
    "\n",
    "    x = np.concatenate([t_back,t_forw])\n",
    "    y = np.concatenate([a_back,a_forw])\n",
    "    plt.plot(x,y)\n",
    "    plt.xlabel(\"t-t0\")\n",
    "    plt.ylabel(\"a(t)/a0\")\n",
    "    #plt.xlim([-0.25,0.25])\n",
    "    #plt.ylim([0.8,1.3])\n"
   ]
  },
  {
   "cell_type": "markdown",
   "metadata": {},
   "source": [
    "## Problem 1.1 "
   ]
  },
  {
   "cell_type": "code",
   "execution_count": 53,
   "metadata": {},
   "outputs": [],
   "source": [
    "# all imports\n",
    "import numpy as np\n",
    "import matplotlib.pyplot as plt\n",
    "from scipy.integrate import quad\n",
    "\n",
    "\n",
    "tH = 13.87   # hubble time\n",
    "t0 = 13.7    # age of the universe\n",
    "a0 = 1.0     # a(t0) at present time\n",
    "\n",
    "def fried(a,omega_M = 0.3, omega_lam = 0.7, omega_R = 1e-5):\n",
    "    omega0 = omega_M+omega_lam+omega_R\n",
    "    \n",
    "    if omega0>1 :    # closed universe condition\n",
    "        amax = omega_M/(omega0-1)\n",
    "        a = amax - abs(amax-a)\n",
    "        \n",
    "    temp = omega_R*((a0/a)**4) + omega_M*((a0/a)**3) + omega_lam + (1-omega0)*(a0/a)**2\n",
    "    return 1/(a*abs(temp)**0.5)"
   ]
  },
  {
   "cell_type": "markdown",
   "metadata": {},
   "source": [
    "The following code adopted from Kishan Deka."
   ]
  },
  {
   "cell_type": "code",
   "execution_count": 54,
   "metadata": {},
   "outputs": [
    {
     "name": "stdout",
     "output_type": "stream",
     "text": [
      "(a)Time passed since universe became vacuum dominated : 4.23 Gyr\n",
      "(b)Time spent in the matter dominated epoch : 9.54 Gyr\n",
      "(c)Time spent in the radiation dominated epoch : 0.096 Myr\n",
      "(d)Time when first nuclei formed : 0.10 Gyr\n"
     ]
    }
   ],
   "source": [
    "omega_M = 0.27                    # omega matter\n",
    "omega_lam = 0.73                  # omega vacuum energy\n",
    "omega_phot = 5.04*1e-5/(1.01)**2   # omega_photon\n",
    "\n",
    "time = 0\n",
    "# time passed since start of vacuum dominated universe\n",
    "at = (omega_M/omega_lam)**(1/3)\n",
    "time,_ = quad(fried,at,a0,args=(omega_M,omega_lam,0))\n",
    "print(r'(a)Time passed since universe became vacuum dominated : %0.2f Gyr' %(time*tH))\n",
    "\n",
    "time = 0\n",
    "# time spent in the matter dominated epoch\n",
    "aeq = 1.68*omega_phot/omega_M\n",
    "at = (omega_M/omega_lam)**(1/3)\n",
    "time,_ = quad(fried,aeq,at,args=(omega_M,omega_lam,0))\n",
    "print(r'(b)Time spent in the matter dominated epoch : %0.2f Gyr' %(time*tH))\n",
    "\n",
    "time = 0\n",
    "# time spent in radiation dominated epoch\n",
    "aeq = 1.68*omega_phot/omega_M\n",
    "ainf = 1e-28\n",
    "time,_ = quad(fried,ainf,aeq,args=(omega_M,omega_lam,0))\n",
    "print(r'(c)Time spent in the radiation dominated epoch : %0.3f Myr' %(time*tH*1e3))\n",
    "\n",
    "time = 0\n",
    "# age of universe when first nuclei formed\n",
    "anuc = 3e-9\n",
    "time,_ = quad(fried,a0,anuc,args=(omega_M,omega_lam,0))\n",
    "print(r'(d)Time when first nuclei formed : %0.2f Gyr' %((a0+time)*tH))"
   ]
  },
  {
   "cell_type": "code",
   "execution_count": null,
   "metadata": {},
   "outputs": [],
   "source": []
  }
 ],
 "metadata": {
  "kernelspec": {
   "display_name": "Python 3",
   "language": "python",
   "name": "python3"
  },
  "language_info": {
   "codemirror_mode": {
    "name": "ipython",
    "version": 3
   },
   "file_extension": ".py",
   "mimetype": "text/x-python",
   "name": "python",
   "nbconvert_exporter": "python",
   "pygments_lexer": "ipython3",
   "version": "3.9.6"
  }
 },
 "nbformat": 4,
 "nbformat_minor": 4
}
